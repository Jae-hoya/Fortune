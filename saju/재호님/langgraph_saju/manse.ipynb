{
 "cells": [
  {
   "cell_type": "code",
   "execution_count": 47,
   "metadata": {},
   "outputs": [
    {
     "name": "stdout",
     "output_type": "stream",
     "text": [
      "=== 사주팔자 ===\n",
      "년주(年柱): 을해\n",
      "월주(月柱): 기묘\n",
      "일주(日柱): 무오\n",
      "시주(時柱): 무오\n",
      "일간(日干): 무\n",
      "\n",
      "=== 오행 강약 ===\n",
      "목: 39점\n",
      "화: 20점\n",
      "토: 68점\n",
      "금: 0점\n",
      "수: 10점\n",
      "\n",
      "=== 십신 분석 ===\n",
      "년주: 천간:정관, 지지:편재(70%), 지지:편관(30%)\n",
      "월주: 천간:겁재, 지지:정관(100%)\n",
      "일주: 지지:정인(70%), 지지:겁재(30%)\n",
      "시주: 지지:정인(70%), 지지:겁재(30%)\n",
      "\n",
      "=== 대운 (정밀 계산) ===\n",
      "5세: 무인 (2000년 ~ 2009년)\n",
      "15세: 정축 (2010년 ~ 2019년)\n",
      "25세: 병자 (2020년 ~ 2029년)\n",
      "35세: 을해 (2030년 ~ 2039년)\n"
     ]
    }
   ],
   "source": [
    "# from saju_tool import calculate_saju_tool\n",
    "\n",
    "# result = calculate_saju_tool.invoke({\n",
    "#     \"year\": 1995,\n",
    "#     \"month\": 3,\n",
    "#     \"day\": 28,\n",
    "#     \"hour\": 12,\n",
    "#     \"minute\": 30,\n",
    "#     \"is_male\": True,\n",
    "#     \"timezone\": \"Asia/Seoul\"\n",
    "# })\n",
    "# print(result)"
   ]
  },
  {
   "cell_type": "code",
   "execution_count": 1,
   "metadata": {},
   "outputs": [
    {
     "data": {
      "text/plain": [
       "True"
      ]
     },
     "execution_count": 1,
     "metadata": {},
     "output_type": "execute_result"
    }
   ],
   "source": [
    "from dotenv import load_dotenv\n",
    "load_dotenv()"
   ]
  },
  {
   "cell_type": "code",
   "execution_count": 2,
   "metadata": {},
   "outputs": [],
   "source": [
    "from langchain_openai import ChatOpenAI\n",
    "from pydantic import BaseModel, Field\n",
    "from typing import Optional\n",
    "\n",
    "class SajuInfo(BaseModel):\n",
    "    \"\"\"사주 계산에 필요한 정보를 추출하는 스키마\"\"\"\n",
    "    year: int = Field(description=\"생년 (예: 1995)\")\n",
    "    month: int = Field(description=\"월 (1-12)\")\n",
    "    day: int = Field(description=\"일 (1-31)\")\n",
    "    hour: int = Field(description=\"시간 (0-23)\", default=12)\n",
    "    minute: int = Field(description=\"분 (0-59)\", default=0)\n",
    "    is_male: bool = Field(description=\"남성 여부 (남자: True, 여자: False)\")\n",
    "    timezone: str = Field(description=\"시간대\", default=\"Asia/Seoul\")\n",
    "\n",
    "def extract_user_info_structured(question: str) -> dict:\n",
    "    \"\"\"structured output을 사용해서 사주 정보 추출\"\"\"\n",
    "    llm = ChatOpenAI(model=\"gpt-4o\", temperature=0)\n",
    "    \n",
    "    # structured output 설정\n",
    "    structured_llm = llm.with_structured_output(SajuInfo)\n",
    "    \n",
    "    prompt = f\"\"\"\n",
    "    다음 문장에서 생년월일, 시간, 성별을 추출해서 사주 정보로 변환해주세요.\n",
    "    시간이 명시되지 않으면 12시로, 분이 명시되지 않으면 0분으로 기본값을 사용하세요.\n",
    "    \n",
    "    문장: \"{question}\"\n",
    "    \"\"\"\n",
    "    \n",
    "    try:\n",
    "        saju_info = structured_llm.invoke(prompt)\n",
    "        return saju_info.model_dump()\n",
    "    except Exception as e:\n",
    "        print(\"구조화된 추출 실패:\", e)\n",
    "        return None\n"
   ]
  },
  {
   "cell_type": "code",
   "execution_count": 3,
   "metadata": {},
   "outputs": [
    {
     "name": "stdout",
     "output_type": "stream",
     "text": [
      "=== 사주팔자 ===\n",
      "년주(年柱): 을해\n",
      "월주(月柱): 기묘\n",
      "일주(日柱): 무오\n",
      "시주(時柱): 무오\n",
      "일간(日干): 무\n",
      "\n",
      "=== 오행 강약 ===\n",
      "목: 39점\n",
      "화: 20점\n",
      "토: 68점\n",
      "금: 0점\n",
      "수: 10점\n",
      "\n",
      "=== 십신 분석 ===\n",
      "년주: 천간:정관, 지지:편재(70%), 지지:편관(30%)\n",
      "월주: 천간:겁재, 지지:정관(100%)\n",
      "일주: 지지:정인(70%), 지지:겁재(30%)\n",
      "시주: 지지:정인(70%), 지지:겁재(30%)\n",
      "\n",
      "=== 대운 (정밀 계산) ===\n",
      "5세: 무인 (2000년 ~ 2009년)\n",
      "15세: 정축 (2010년 ~ 2019년)\n",
      "25세: 병자 (2020년 ~ 2029년)\n",
      "35세: 을해 (2030년 ~ 2039년)\n",
      "추출된 정보: {'year': 1995, 'month': 3, 'day': 28, 'hour': 12, 'minute': 30, 'is_male': True, 'timezone': 'Asia/Seoul'}\n",
      "\n",
      "=== 사주 분석 결과 ===\n",
      "=== 사주팔자 ===\n",
      "년주(年柱): 을해\n",
      "월주(月柱): 기묘\n",
      "일주(日柱): 무오\n",
      "시주(時柱): 무오\n",
      "일간(日干): 무\n",
      "\n",
      "=== 오행 강약 ===\n",
      "목: 39점\n",
      "화: 20점\n",
      "토: 68점\n",
      "금: 0점\n",
      "수: 10점\n",
      "\n",
      "=== 십신 분석 ===\n",
      "년주: 천간:정관, 지지:편재(70%), 지지:편관(30%)\n",
      "월주: 천간:겁재, 지지:정관(100%)\n",
      "일주: 지지:정인(70%), 지지:겁재(30%)\n",
      "시주: 지지:정인(70%), 지지:겁재(30%)\n",
      "\n",
      "=== 대운 (정밀 계산) ===\n",
      "5세: 무인 (2000년 ~ 2009년)\n",
      "15세: 정축 (2010년 ~ 2019년)\n",
      "25세: 병자 (2020년 ~ 2029년)\n",
      "35세: 을해 (2030년 ~ 2039년)\n"
     ]
    }
   ],
   "source": [
    "from saju_tool import calculate_saju_tool\n",
    "\n",
    "def main_structured(question: str):\n",
    "    \"\"\"structured output을 사용한 사주 분석 파이프라인\"\"\"\n",
    "    user_info = extract_user_info_structured(question)\n",
    "    if user_info is None:\n",
    "        print(\"입력에서 정보를 추출할 수 없습니다.\")\n",
    "        return\n",
    "    \n",
    "    print(\"추출된 정보:\", user_info)\n",
    "    result = calculate_saju_tool.invoke(user_info)\n",
    "    print(\"\\n=== 사주 분석 결과 ===\")\n",
    "    print(result)\n",
    "\n",
    "# 테스트\n",
    "main_structured(\"1995년 3월 28일 12시 30분 출생\")\n"
   ]
  },
  {
   "cell_type": "code",
   "execution_count": null,
   "metadata": {},
   "outputs": [],
   "source": []
  }
 ],
 "metadata": {
  "kernelspec": {
   "display_name": ".venv",
   "language": "python",
   "name": "python3"
  },
  "language_info": {
   "codemirror_mode": {
    "name": "ipython",
    "version": 3
   },
   "file_extension": ".py",
   "mimetype": "text/x-python",
   "name": "python",
   "nbconvert_exporter": "python",
   "pygments_lexer": "ipython3",
   "version": "3.11.9"
  }
 },
 "nbformat": 4,
 "nbformat_minor": 2
}
