{
 "cells": [
  {
   "cell_type": "code",
   "execution_count": 2,
   "id": "e58084e5",
   "metadata": {},
   "outputs": [
    {
     "data": {
      "text/plain": [
       "True"
      ]
     },
     "execution_count": 2,
     "metadata": {},
     "output_type": "execute_result"
    }
   ],
   "source": [
    "from dotenv import load_dotenv\n",
    "load_dotenv()"
   ]
  },
  {
   "cell_type": "code",
   "execution_count": 17,
   "id": "19c673f8",
   "metadata": {},
   "outputs": [
    {
     "data": {
      "text/plain": [
       "1"
      ]
     },
     "execution_count": 17,
     "metadata": {},
     "output_type": "execute_result"
    }
   ],
   "source": [
    "from langchain_community.document_loaders import TextLoader\n",
    "\n",
    "# Markdown 파일 경로\n",
    "FILE_PATH = \"../ParsingData/LlamaParse_Multimodal(gpt-4o-mini).md\"\n",
    "\n",
    "# TextLoader로 불러오기\n",
    "loader = TextLoader(FILE_PATH, encoding=\"utf-8\")\n",
    "docs = loader.load()\n",
    "len(docs)"
   ]
  },
  {
   "cell_type": "code",
   "execution_count": 19,
   "id": "ccb4c6bd",
   "metadata": {},
   "outputs": [
    {
     "data": {
      "text/plain": [
       "37"
      ]
     },
     "execution_count": 19,
     "metadata": {},
     "output_type": "execute_result"
    }
   ],
   "source": [
    "from langchain_text_splitters import RecursiveCharacterTextSplitter\n",
    "\n",
    "text_splitter = RecursiveCharacterTextSplitter(\n",
    "    chunk_size=1000,\n",
    "    chunk_overlap=100\n",
    ")\n",
    "\n",
    "documents = text_splitter.split_documents(docs)\n",
    "len(documents)"
   ]
  },
  {
   "cell_type": "code",
   "execution_count": 20,
   "id": "0f3a3327",
   "metadata": {},
   "outputs": [],
   "source": [
    "from langchain.vectorstores import FAISS\n",
    "from langchain.embeddings import OpenAIEmbeddings\n",
    "\n",
    "# 벡터 저장소로 변환\n",
    "embedding = OpenAIEmbeddings(model=\"text-embedding-3-small\")\n",
    "vectorstore = FAISS.from_documents(documents, embedding)\n",
    "\n",
    "retriever = vectorstore.as_retriever()"
   ]
  },
  {
   "cell_type": "code",
   "execution_count": 25,
   "id": "b25eef34",
   "metadata": {},
   "outputs": [
    {
     "data": {
      "text/plain": [
       "Document(id='3d70f119-8220-45a1-a2bb-6483c41d16d2', metadata={'source': '../ParsingData/LlamaParse_Multimodal(gpt-4o-mini).md'}, page_content='삼성 가우스는 스텍스트를 생성하는 언어모델 스코드를 생성하는 코드 모델 스미지를 생성하는 이미지 모델의 3개 모델로 구성\\n\\n| 모델     | 설명                                                                |\\n| ------ | ----------------------------------------------------------------- |\\n| 언어 모델  | 클라우드와 온디바이스 대상 다양한 모델로 구성되며, 이메일 작성, 문서 요약, 번역 업무 처리 지원           |\\n| 코드 모델  | AI 코딩 어시스턴트 ‘코드아이(code.i)’는 대화형 인터페이스로 서비스를 제공하며 사내 소프트웨어 개발에 최적화 |\\n| 이미지 모델 | 창의적인 이미지를 생성하고 기존 이미지를 원하는 대로 바꿀 수 있도록 지원하며 저해상도 이미지의 고해상도 전환도 지원 |\\n\\nIT 전문 매체 테크리퍼블릭(TechRepublic)은 온디바이스 AI가 주요 기술 트렌드로 부상했으며, 2024년부터 가우스를 탑재한 삼성 스마트폰이 메타의 라마(Llama)를 탑재한 웨얼러 기기 구글 어시스턴트를 적용한 구글 픽셀(Pixel)과 경쟁할 것으로 예상\\n\\n출처: 삼성전자, ‘삼성 AI 포럼’서 자체 개발 생성 AI ‘삼성 가우스’ 공개, 2023.11.08\\n\\n삼성전자, ‘삼성 개발자 컨퍼런스 코리아 2023’ 개최, 2023.11.14.\\n\\nTechRepublic, Samsung Gauss: Samsung Research Reveals Generative AI, 2023.11.08.\\n\\n# 구글, 앤스프릭에 최대 20억 달러 투자로 생성 AI 협력 강화\\n\\n# KEY Contents')"
      ]
     },
     "execution_count": 25,
     "metadata": {},
     "output_type": "execute_result"
    }
   ],
   "source": [
    "retriever.invoke(\"삼성전자 생성형 AI의 이름은?\")[0]"
   ]
  },
  {
   "cell_type": "markdown",
   "id": "95c8b726",
   "metadata": {},
   "source": [
    "### 저장"
   ]
  },
  {
   "cell_type": "code",
   "execution_count": 21,
   "id": "109322ba",
   "metadata": {},
   "outputs": [],
   "source": [
    "vectorstore.save_local(\"faiss_index\")"
   ]
  },
  {
   "cell_type": "markdown",
   "id": "8a8c0a2b",
   "metadata": {},
   "source": [
    "### 불러오기"
   ]
  },
  {
   "cell_type": "code",
   "execution_count": 22,
   "id": "08b0a6e3",
   "metadata": {},
   "outputs": [],
   "source": [
    "# 저장된 FAISS 인덱스 불러오기\n",
    "load_vectorstore = FAISS.load_local(\"faiss_index\", embeddings=embedding,allow_dangerous_deserialization=True)"
   ]
  },
  {
   "cell_type": "code",
   "execution_count": 23,
   "id": "81879f06",
   "metadata": {},
   "outputs": [],
   "source": [
    "load_retriever = load_vectorstore.as_retriever()"
   ]
  },
  {
   "cell_type": "code",
   "execution_count": 24,
   "id": "e655e6c8",
   "metadata": {},
   "outputs": [
    {
     "data": {
      "text/plain": [
       "Document(id='3d70f119-8220-45a1-a2bb-6483c41d16d2', metadata={'source': '../ParsingData/LlamaParse_Multimodal(gpt-4o-mini).md'}, page_content='삼성 가우스는 스텍스트를 생성하는 언어모델 스코드를 생성하는 코드 모델 스미지를 생성하는 이미지 모델의 3개 모델로 구성\\n\\n| 모델     | 설명                                                                |\\n| ------ | ----------------------------------------------------------------- |\\n| 언어 모델  | 클라우드와 온디바이스 대상 다양한 모델로 구성되며, 이메일 작성, 문서 요약, 번역 업무 처리 지원           |\\n| 코드 모델  | AI 코딩 어시스턴트 ‘코드아이(code.i)’는 대화형 인터페이스로 서비스를 제공하며 사내 소프트웨어 개발에 최적화 |\\n| 이미지 모델 | 창의적인 이미지를 생성하고 기존 이미지를 원하는 대로 바꿀 수 있도록 지원하며 저해상도 이미지의 고해상도 전환도 지원 |\\n\\nIT 전문 매체 테크리퍼블릭(TechRepublic)은 온디바이스 AI가 주요 기술 트렌드로 부상했으며, 2024년부터 가우스를 탑재한 삼성 스마트폰이 메타의 라마(Llama)를 탑재한 웨얼러 기기 구글 어시스턴트를 적용한 구글 픽셀(Pixel)과 경쟁할 것으로 예상\\n\\n출처: 삼성전자, ‘삼성 AI 포럼’서 자체 개발 생성 AI ‘삼성 가우스’ 공개, 2023.11.08\\n\\n삼성전자, ‘삼성 개발자 컨퍼런스 코리아 2023’ 개최, 2023.11.14.\\n\\nTechRepublic, Samsung Gauss: Samsung Research Reveals Generative AI, 2023.11.08.\\n\\n# 구글, 앤스프릭에 최대 20억 달러 투자로 생성 AI 협력 강화\\n\\n# KEY Contents')"
      ]
     },
     "execution_count": 24,
     "metadata": {},
     "output_type": "execute_result"
    }
   ],
   "source": [
    "load_retriever.invoke(\"삼성전자 생성형 AI의 이름은?\")[0]"
   ]
  },
  {
   "cell_type": "code",
   "execution_count": null,
   "id": "4a44c73e",
   "metadata": {},
   "outputs": [],
   "source": []
  }
 ],
 "metadata": {
  "kernelspec": {
   "display_name": "myenv",
   "language": "python",
   "name": "python3"
  },
  "language_info": {
   "codemirror_mode": {
    "name": "ipython",
    "version": 3
   },
   "file_extension": ".py",
   "mimetype": "text/x-python",
   "name": "python",
   "nbconvert_exporter": "python",
   "pygments_lexer": "ipython3",
   "version": "3.11.9"
  }
 },
 "nbformat": 4,
 "nbformat_minor": 5
}
